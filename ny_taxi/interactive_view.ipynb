{
 "cells": [
  {
   "cell_type": "markdown",
   "metadata": {},
   "source": [
    "## Прогнозирование временных рядов на карте\n",
    "Ваш проект почти закончен! На этой неделе вам предстоит оформить результат, используя интерактивные графики.\n",
    "\n",
    "### Инструкции\n",
    "\n",
    "Определитесь, в каком виде вы хотите представить ваш проект. Мы предлагаем вам сделать интерактивное демо, содержащее:\n",
    "\n",
    "* карты с визуализацией реального и прогнозируемого спроса на такси в выбираемый пользователем момент времени\n",
    "* временной ряд фактического и прогнозируемого спроса на такси в выбираемой области.\n",
    "\n",
    "Немного материалов о том, как в ноутбуках можно делать интерактивные графики:\n",
    "* https://blog.dominodatalab.com/interactive-dashboards-in-jupyter/\n",
    "* http://nbviewer.jupyter.org/github/quantopian/ipython/blob/master/examples/Interactive%20Widgets/Index.ipynb\n",
    "* https://github.com/ioam/holoviews"
   ]
  },
  {
   "cell_type": "code",
   "execution_count": null,
   "metadata": {
    "collapsed": false
   },
   "outputs": [],
   "source": [
    "import pandas as pd\n",
    "import numpy as np\n",
    "import datetime\n",
    "from StringIO import StringIO\n",
    "\n",
    "%matplotlib inline\n",
    "\n",
    "import plotly\n",
    "import plotly.plotly as py\n",
    "import plotly.graph_objs as go\n",
    "plotly.offline.init_notebook_mode()\n",
    "from plotly.offline import iplot\n",
    "from plotly import tools\n",
    "\n",
    "from IPython.display import display, clear_output\n",
    "from traitlets import link\n",
    "from ipywidgets import widgets\n",
    "\n",
    "import folium\n",
    "import json"
   ]
  },
  {
   "cell_type": "code",
   "execution_count": null,
   "metadata": {
    "collapsed": false
   },
   "outputs": [],
   "source": [
    "data = pd.read_csv('taxi_data.csv.gz')\n",
    "data['dt'] = pd.to_datetime(data.dt)\n",
    "\n",
    "regions = list(np.sort(np.unique(data.region.values), axis=None))\n",
    "steps = range(1,7)"
   ]
  },
  {
   "cell_type": "markdown",
   "metadata": {},
   "source": [
    "### Временные ряды для выбранной зоны"
   ]
  },
  {
   "cell_type": "code",
   "execution_count": null,
   "metadata": {
    "collapsed": true
   },
   "outputs": [],
   "source": [
    "def plot_timeline(data, region, step):\n",
    "    \"\"\"\n",
    "    Makes prediction and actual timelines\n",
    "    \"\"\"\n",
    "    data_region=data[data.region==region].sort_values('dt')\n",
    "    x=data_region.dt+datetime.timedelta(hours=step)\n",
    "    trace_real = go.Scatter(x=x, y=data_region['y_'+str(step)], mode='lines', name='real', line=dict(width=1.5))\n",
    "    trace_pred = go.Scatter(x=x, y=data_region['yp_'+str(step)], mode='lines', name='prediction', \n",
    "                            line=dict(width=1.5)\n",
    "                           )\n",
    "    layout = go.Layout(\n",
    "        title='Real and prediction timeseries with step=%s and region=%s' % (step, region),\n",
    "        xaxis=dict(\n",
    "            rangeslider=dict(),\n",
    "            rangeselector=dict(\n",
    "                buttons=list([\n",
    "                        dict(count=1, label='d', step='day', stepmode='todate'),\n",
    "                        dict(count=7, label='w', step='day', stepmode='backwards'),\n",
    "                        dict(step='all')\n",
    "                ])\n",
    "            )\n",
    "        )\n",
    "    )\n",
    "    fig=go.Figure(data=[trace_real, trace_pred], layout=layout)\n",
    "    iplot(fig)"
   ]
  },
  {
   "cell_type": "code",
   "execution_count": null,
   "metadata": {
    "collapsed": false
   },
   "outputs": [],
   "source": [
    "cmb_regions=widgets.Dropdown(\n",
    "    options=regions,\n",
    "    value=regions[0],\n",
    "    description='Region:',\n",
    ")\n",
    "\n",
    "sld_steps=widgets.IntSlider(value=1, min=1, max=6, step=1, description='Step')\n",
    "\n",
    "pnl=widgets.HBox(children=[cmb_regions, sld_steps])\n",
    "pnl.width = '100%'\n",
    "pnl.pack = 'center'\n",
    "\n",
    "display(pnl)\n",
    "\n",
    "def change_values(sender):\n",
    "    \"\"\"\n",
    "    handles the value changing\n",
    "    \"\"\"\n",
    "    clear_output()\n",
    "    plot_timeline(data=data, region=cmb_regions.value, step=sld_steps.value)\n",
    "    \n",
    "cmb_regions.observe(change_values, 'value')\n",
    "sld_steps.observe(change_values, 'value')\n",
    "plot_timeline(data=data, region=regions[0], step=steps[0])"
   ]
  },
  {
   "cell_type": "markdown",
   "metadata": {},
   "source": [
    "### Карта прогнозов в выбранный час (folium)"
   ]
  },
  {
   "cell_type": "code",
   "execution_count": null,
   "metadata": {
    "collapsed": false
   },
   "outputs": [],
   "source": [
    "num_steps = 50\n",
    "west=-74.25559\n",
    "east=-73.70001\n",
    "north=40.91553\n",
    "south=40.49612\n",
    "url_base = 'http://server.arcgisonline.com/ArcGIS/rest/services/'\n",
    "service = 'NatGeo_World_Map/MapServer/tile/{z}/{y}/{x}'\n",
    "tileset = url_base + service\n",
    "\n",
    "regionsDF = pd.read_csv('./regions.csv', delimiter=';')"
   ]
  },
  {
   "cell_type": "code",
   "execution_count": null,
   "metadata": {
    "collapsed": false
   },
   "outputs": [],
   "source": [
    "geo_data=data.merge(regionsDF, on='region')\n",
    "(min_hour, max_hour)=(geo_data.hour_no.min(), geo_data.hour_no.max())"
   ]
  },
  {
   "cell_type": "code",
   "execution_count": null,
   "metadata": {
    "collapsed": true
   },
   "outputs": [],
   "source": [
    "def plot_hour(data, hour_no=min_hour, step_no=1, is_pred=True):\n",
    "    \"\"\"\n",
    "    Makes folium map with colored regions with selected hour\n",
    "    \"\"\"\n",
    "    grid = {\"type\": \"FeatureCollection\", \"features\":[]}\n",
    "    filtered = data[data.hour_no==hour_no]\n",
    "    for (i, row) in filtered.iterrows():\n",
    "        (w, e, s, n) = (row['west'], row['east'], row['south'], row['north'])\n",
    "        coords = [[w, n],[e, n],[e, s],[w, s],[w, n]]\n",
    "        grid['features'].append({\"type\": \"Feature\",\n",
    "                                 \"id\": row['region'],\n",
    "                                 \"geometry\": {\n",
    "                                     \"type\": \"Polygon\",\n",
    "                                     \"coordinates\": [coords]},\n",
    "                                 \"properties\": {\"name\": str(row['region'])}\n",
    "                                }\n",
    "                               )\n",
    "    io = StringIO()\n",
    "    json.dump(grid, io)\n",
    "    \n",
    "    flm_map = folium.Map(location=[(north+south)/2, (east+west)/2], zoom_start=11,\n",
    "                     control_scale = True, tiles=tileset, attr='USGS style')\n",
    "    \n",
    "    data_col_name = 'yp_%s' % step_no if is_pred else 'y_%s' % step_no\n",
    "    fill_color = 'BuPu' if is_pred else 'YlOrRd'\n",
    "    flm_map.choropleth(geo_str=io.getvalue(), data=filtered,\n",
    "              columns=['region', data_col_name],\n",
    "              threshold_scale=[50, 100, 200, 400, 600, 800],\n",
    "              key_on='feature.id',\n",
    "              fill_color=fill_color, fill_opacity=0.6,\n",
    "              line_opacity=0.1, line_weight=0.2)\n",
    "    \n",
    "    return flm_map"
   ]
  },
  {
   "cell_type": "code",
   "execution_count": null,
   "metadata": {
    "collapsed": false
   },
   "outputs": [],
   "source": [
    "sld_hour=widgets.IntSlider(\n",
    "    value=min_hour, min=min_hour, max=max_hour, description='Hour No:'\n",
    ")\n",
    "\n",
    "sld_steps_1=widgets.IntSlider(value=1, min=1, max=6, step=1, description='Step:')\n",
    "chk_pred=widgets.Checkbox(value=True, description='Prediction')\n",
    "\n",
    "pnl_1=widgets.HBox(children=[sld_hour, sld_steps_1, chk_pred])\n",
    "pnl_1.width = '100%'\n",
    "pnl_1.pack = 'center'\n",
    "\n",
    "display(pnl_1)\n",
    "\n",
    "def change_map(sender):\n",
    "    \"\"\"\n",
    "    handles the value changing\n",
    "    \"\"\"\n",
    "    clear_output()\n",
    "    flm_map=plot_hour(data=geo_data, hour_no=sld_hour.value, step_no=sld_steps_1.value, is_pred=chk_pred.value)\n",
    "    display(flm_map)\n",
    "    \n",
    "sld_hour.observe(change_map, 'value')\n",
    "sld_steps_1.observe(change_map, 'value')\n",
    "chk_pred.observe(change_map, 'value')\n",
    "flm_map=plot_hour(data=geo_data, hour_no=sld_hour.value, step_no=sld_steps_1.value, is_pred=chk_pred.value)\n",
    "display(flm_map)"
   ]
  },
  {
   "cell_type": "code",
   "execution_count": null,
   "metadata": {
    "collapsed": true
   },
   "outputs": [],
   "source": []
  }
 ],
 "metadata": {
  "anaconda-cloud": {},
  "kernelspec": {
   "display_name": "Python [default]",
   "language": "python",
   "name": "python2"
  },
  "language_info": {
   "codemirror_mode": {
    "name": "ipython",
    "version": 2
   },
   "file_extension": ".py",
   "mimetype": "text/x-python",
   "name": "python",
   "nbconvert_exporter": "python",
   "pygments_lexer": "ipython2",
   "version": "2.7.12"
  },
  "widgets": {
   "state": {
    "408e3316d2814d7ca5d432edba4aedea": {
     "views": [
      {
       "cell_index": 5
      }
     ]
    },
    "d02beaf6c0ee42efbb1bc4cfd25d26dd": {
     "views": [
      {
       "cell_index": 10
      }
     ]
    }
   },
   "version": "1.2.0"
  }
 },
 "nbformat": 4,
 "nbformat_minor": 1
}
